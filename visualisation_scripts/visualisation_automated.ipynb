{
 "cells": [
  {
   "cell_type": "code",
   "execution_count": 1,
   "metadata": {},
   "outputs": [],
   "source": [
    "import os"
   ]
  },
  {
   "cell_type": "code",
   "execution_count": 2,
   "metadata": {},
   "outputs": [],
   "source": [
    "result_folder_names = [entry.name for entry in os.scandir(\"../docs\") if entry.is_dir()]\n",
    "current_folder = max(result_folder_names)\n",
    "current_conf_image = os.path.join(\"../\",current_folder,\"confusion_results.png\")"
   ]
  },
  {
   "cell_type": "code",
   "execution_count": 3,
   "metadata": {},
   "outputs": [],
   "source": [
    "with open(os.path.join(\"../docs\",\"skills_validation.md\"), 'w') as mdfile:\n",
    "    mdfile.write(f'''\n",
    "## Skills Validation Test\n",
    "\n",
    "![Confusion_result_png-{current_folder}]({current_conf_image})\n",
    "''')\n",
    "    \n"
   ]
  }
 ],
 "metadata": {
  "kernelspec": {
   "display_name": "testenv",
   "language": "python",
   "name": "python3"
  },
  "language_info": {
   "codemirror_mode": {
    "name": "ipython",
    "version": 3
   },
   "file_extension": ".py",
   "mimetype": "text/x-python",
   "name": "python",
   "nbconvert_exporter": "python",
   "pygments_lexer": "ipython3",
   "version": "3.10.12"
  }
 },
 "nbformat": 4,
 "nbformat_minor": 2
}
